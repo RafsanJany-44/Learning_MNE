{
  "nbformat": 4,
  "nbformat_minor": 0,
  "metadata": {
    "colab": {
      "provenance": [],
      "authorship_tag": "ABX9TyM/bOvBVDq23tTaV+ZMUMx2",
      "include_colab_link": true
    },
    "kernelspec": {
      "name": "python3",
      "display_name": "Python 3"
    },
    "language_info": {
      "name": "python"
    }
  },
  "cells": [
    {
      "cell_type": "markdown",
      "metadata": {
        "id": "view-in-github",
        "colab_type": "text"
      },
      "source": [
        "<a href=\"https://colab.research.google.com/github/RafsanJany-44/Learning_MNE/blob/main/Haaglanden_Medisch_Centrum_sleep_staging.ipynb\" target=\"_parent\"><img src=\"https://colab.research.google.com/assets/colab-badge.svg\" alt=\"Open In Colab\"/></a>"
      ]
    },
    {
      "cell_type": "markdown",
      "source": [
        "[Dataset](https://physionet.org/content/hmc-sleep-staging/1.0.0/)"
      ],
      "metadata": {
        "id": "2LgftXDmBZFn"
      }
    },
    {
      "cell_type": "code",
      "source": [
        "!pip install mne"
      ],
      "metadata": {
        "colab": {
          "base_uri": "https://localhost:8080/"
        },
        "id": "IlnuPsfABsK9",
        "outputId": "b233de13-6aa2-4585-8dad-e801c4246557"
      },
      "execution_count": 1,
      "outputs": [
        {
          "output_type": "stream",
          "name": "stdout",
          "text": [
            "Collecting mne\n",
            "  Downloading mne-1.4.2-py3-none-any.whl (7.7 MB)\n",
            "\u001b[2K     \u001b[90m━━━━━━━━━━━━━━━━━━━━━━━━━━━━━━━━━━━━━━━━\u001b[0m \u001b[32m7.7/7.7 MB\u001b[0m \u001b[31m49.8 MB/s\u001b[0m eta \u001b[36m0:00:00\u001b[0m\n",
            "\u001b[?25hRequirement already satisfied: numpy>=1.15.4 in /usr/local/lib/python3.10/dist-packages (from mne) (1.22.4)\n",
            "Requirement already satisfied: scipy>=1.6.3 in /usr/local/lib/python3.10/dist-packages (from mne) (1.10.1)\n",
            "Requirement already satisfied: matplotlib>=3.4.0 in /usr/local/lib/python3.10/dist-packages (from mne) (3.7.1)\n",
            "Requirement already satisfied: tqdm in /usr/local/lib/python3.10/dist-packages (from mne) (4.65.0)\n",
            "Requirement already satisfied: pooch>=1.5 in /usr/local/lib/python3.10/dist-packages (from mne) (1.6.0)\n",
            "Requirement already satisfied: decorator in /usr/local/lib/python3.10/dist-packages (from mne) (4.4.2)\n",
            "Requirement already satisfied: packaging in /usr/local/lib/python3.10/dist-packages (from mne) (23.1)\n",
            "Requirement already satisfied: jinja2 in /usr/local/lib/python3.10/dist-packages (from mne) (3.1.2)\n",
            "Requirement already satisfied: contourpy>=1.0.1 in /usr/local/lib/python3.10/dist-packages (from matplotlib>=3.4.0->mne) (1.1.0)\n",
            "Requirement already satisfied: cycler>=0.10 in /usr/local/lib/python3.10/dist-packages (from matplotlib>=3.4.0->mne) (0.11.0)\n",
            "Requirement already satisfied: fonttools>=4.22.0 in /usr/local/lib/python3.10/dist-packages (from matplotlib>=3.4.0->mne) (4.41.0)\n",
            "Requirement already satisfied: kiwisolver>=1.0.1 in /usr/local/lib/python3.10/dist-packages (from matplotlib>=3.4.0->mne) (1.4.4)\n",
            "Requirement already satisfied: pillow>=6.2.0 in /usr/local/lib/python3.10/dist-packages (from matplotlib>=3.4.0->mne) (8.4.0)\n",
            "Requirement already satisfied: pyparsing>=2.3.1 in /usr/local/lib/python3.10/dist-packages (from matplotlib>=3.4.0->mne) (3.1.0)\n",
            "Requirement already satisfied: python-dateutil>=2.7 in /usr/local/lib/python3.10/dist-packages (from matplotlib>=3.4.0->mne) (2.8.2)\n",
            "Requirement already satisfied: appdirs>=1.3.0 in /usr/local/lib/python3.10/dist-packages (from pooch>=1.5->mne) (1.4.4)\n",
            "Requirement already satisfied: requests>=2.19.0 in /usr/local/lib/python3.10/dist-packages (from pooch>=1.5->mne) (2.27.1)\n",
            "Requirement already satisfied: MarkupSafe>=2.0 in /usr/local/lib/python3.10/dist-packages (from jinja2->mne) (2.1.3)\n",
            "Requirement already satisfied: six>=1.5 in /usr/local/lib/python3.10/dist-packages (from python-dateutil>=2.7->matplotlib>=3.4.0->mne) (1.16.0)\n",
            "Requirement already satisfied: urllib3<1.27,>=1.21.1 in /usr/local/lib/python3.10/dist-packages (from requests>=2.19.0->pooch>=1.5->mne) (1.26.16)\n",
            "Requirement already satisfied: certifi>=2017.4.17 in /usr/local/lib/python3.10/dist-packages (from requests>=2.19.0->pooch>=1.5->mne) (2023.5.7)\n",
            "Requirement already satisfied: charset-normalizer~=2.0.0 in /usr/local/lib/python3.10/dist-packages (from requests>=2.19.0->pooch>=1.5->mne) (2.0.12)\n",
            "Requirement already satisfied: idna<4,>=2.5 in /usr/local/lib/python3.10/dist-packages (from requests>=2.19.0->pooch>=1.5->mne) (3.4)\n",
            "Installing collected packages: mne\n",
            "Successfully installed mne-1.4.2\n"
          ]
        }
      ]
    },
    {
      "cell_type": "code",
      "execution_count": null,
      "metadata": {
        "id": "INrp6uwYBD4G"
      },
      "outputs": [],
      "source": [
        "!wget -r -N -c -np https://physionet.org/files/hmc-sleep-staging/1.0.0/"
      ]
    },
    {
      "cell_type": "code",
      "source": [
        "path_root = '/content/physionet.org/files/hmc-sleep-staging/1.0.0/recordings'"
      ],
      "metadata": {
        "id": "E6C7MqwCBoky"
      },
      "execution_count": 3,
      "outputs": []
    },
    {
      "cell_type": "code",
      "source": [
        "import os\n",
        "os.chdir(path_root)"
      ],
      "metadata": {
        "id": "kXMd0PAtBogn"
      },
      "execution_count": 4,
      "outputs": []
    },
    {
      "cell_type": "code",
      "source": [
        "import os\n",
        "os.getcwd()"
      ],
      "metadata": {
        "colab": {
          "base_uri": "https://localhost:8080/",
          "height": 36
        },
        "id": "rAq6Io3kBobk",
        "outputId": "22a164e8-b249-47b6-e668-6c8fbb88baaa"
      },
      "execution_count": 5,
      "outputs": [
        {
          "output_type": "execute_result",
          "data": {
            "text/plain": [
              "'/content/physionet.org/files/hmc-sleep-staging/1.0.0/recordings'"
            ],
            "application/vnd.google.colaboratory.intrinsic+json": {
              "type": "string"
            }
          },
          "metadata": {},
          "execution_count": 5
        }
      ]
    },
    {
      "cell_type": "code",
      "source": [
        "import numpy as np\n",
        "import matplotlib.pyplot as plt\n",
        "\n",
        "import mne\n",
        "from mne.datasets.sleep_physionet.age import fetch_data\n",
        "\n",
        "from sklearn.ensemble import RandomForestClassifier\n",
        "from sklearn.metrics import accuracy_score\n",
        "from sklearn.metrics import confusion_matrix\n",
        "from sklearn.metrics import classification_report\n",
        "from sklearn.pipeline import make_pipeline\n",
        "from sklearn.preprocessing import FunctionTransformer\n",
        "from glob import glob"
      ],
      "metadata": {
        "id": "BT9XFYfIBoVW"
      },
      "execution_count": 6,
      "outputs": []
    },
    {
      "cell_type": "code",
      "source": [
        "data=glob(path_root + '/*.edf')\n",
        "print(len(data))\n",
        "\n",
        "data_eeg = [i for i in data if 'S' and not 'sleepscoring' in i.split('/content/physionet.org/files/hmc-sleep-staging/1.0.0/recordings')[1]]\n",
        "data_ano = [i for i in data if 'S'and 'sleepscoring' in i.split('/content/physionet.org/files/hmc-sleep-staging/1.0.0/recordings')[1]]"
      ],
      "metadata": {
        "colab": {
          "base_uri": "https://localhost:8080/"
        },
        "id": "bhmrbyKpBoOP",
        "outputId": "20ba7984-7ce3-4e07-b258-6ceb5c93b363"
      },
      "execution_count": 8,
      "outputs": [
        {
          "output_type": "stream",
          "name": "stdout",
          "text": [
            "23\n"
          ]
        }
      ]
    },
    {
      "cell_type": "code",
      "source": [
        "print(len(data_eeg),len(data_ano))"
      ],
      "metadata": {
        "colab": {
          "base_uri": "https://localhost:8080/"
        },
        "id": "0-t_8juHBoIH",
        "outputId": "f8fdbcff-e6f2-49c5-b250-305b796006b4"
      },
      "execution_count": 9,
      "outputs": [
        {
          "output_type": "stream",
          "name": "stdout",
          "text": [
            "12 11\n"
          ]
        }
      ]
    },
    {
      "cell_type": "markdown",
      "source": [
        "**Creating a dictionnary with two columns: EEG files and Annotation files**"
      ],
      "metadata": {
        "id": "okRzW8czCml8"
      }
    },
    {
      "cell_type": "code",
      "source": [
        "dictionary={}\n",
        "for i,eeg in enumerate(data_eeg):\n",
        "  dictionary[i+1]=[eeg]\n",
        "for i,ano in enumerate(data_ano):\n",
        "  dictionary[i+1].append(ano)"
      ],
      "metadata": {
        "id": "QVGcud5OChNd"
      },
      "execution_count": 10,
      "outputs": []
    },
    {
      "cell_type": "code",
      "source": [
        "dictionary[1]"
      ],
      "metadata": {
        "colab": {
          "base_uri": "https://localhost:8080/"
        },
        "id": "2kpIyU-PChIx",
        "outputId": "8e97ebd0-bf46-4f8b-f24d-7b8e31b4f9b8"
      },
      "execution_count": 11,
      "outputs": [
        {
          "output_type": "execute_result",
          "data": {
            "text/plain": [
              "['/content/physionet.org/files/hmc-sleep-staging/1.0.0/recordings/SN010.edf',\n",
              " '/content/physionet.org/files/hmc-sleep-staging/1.0.0/recordings/SN008_sleepscoring.edf']"
            ]
          },
          "metadata": {},
          "execution_count": 11
        }
      ]
    },
    {
      "cell_type": "markdown",
      "source": [
        "**Converting the created dictionnary into DataFrame**"
      ],
      "metadata": {
        "id": "pa5FZDraCuys"
      }
    },
    {
      "cell_type": "code",
      "source": [
        "import pandas as pd\n",
        "pd.set_option('display.max_colwidth',200)\n",
        "dt = pd.DataFrame.from_dict(dictionary)\n",
        "dt=dt.transpose()\n",
        "dt.head()"
      ],
      "metadata": {
        "id": "j2JOyvVgChED"
      },
      "execution_count": null,
      "outputs": []
    },
    {
      "cell_type": "code",
      "source": [
        "from sklearn.model_selection import train_test_split\n",
        "X_train,X_test=train_test_split(dt,test_size=0.15)"
      ],
      "metadata": {
        "id": "S_MkvnG1ChBs"
      },
      "execution_count": null,
      "outputs": []
    },
    {
      "cell_type": "code",
      "source": [
        "print(X_train.shape)\n",
        "print(X_test.shape)"
      ],
      "metadata": {
        "id": "9SfSyM1GCg6x"
      },
      "execution_count": null,
      "outputs": []
    },
    {
      "cell_type": "code",
      "source": [
        "X_train.iloc[:,0]"
      ],
      "metadata": {
        "id": "5ScL_C98Cg4J"
      },
      "execution_count": null,
      "outputs": []
    },
    {
      "cell_type": "code",
      "source": [
        "X_train.iloc[3,1]"
      ],
      "metadata": {
        "id": "0cO4W_F_Cg0d"
      },
      "execution_count": null,
      "outputs": []
    },
    {
      "cell_type": "code",
      "source": [
        "#YAHYA, BELLO = 0, 1\n",
        "#[yahya_files, bello_files] = dictionary[1], dictionary[2]\n",
        "raw_train=[]\n",
        "annot_train=[]\n",
        "for i in X_train.iloc[:,0].tolist():\n",
        "   raw_train.append(mne.io.read_raw_edf(str(i),stim_channel='Event marker',\n",
        "                                misc=['Temp rectal']))\n",
        "for i,k in enumerate(X_train.iloc[:,1].tolist()):\n",
        "   annot_train.append(mne.read_annotations(str(k)))\n",
        "   raw_train[i].set_annotations(annot_train[i], emit_warning=False)\n",
        "   raw_train[i].load_data()\n",
        "\n",
        "# plot some data\n",
        "# scalings were chosen manually to allow for simultaneous visualization of\n",
        "# different channel types in this specific dataset\n",
        "# raw_train.plot(start=10, duration=10,\n",
        "#                scalings=dict(eeg=1e-4, resp=1e3, eog=1e-4, emg=1e-7,\n",
        "#                              misc=1e-1))"
      ],
      "metadata": {
        "id": "kC0AyHdtBoF9"
      },
      "execution_count": null,
      "outputs": []
    },
    {
      "cell_type": "code",
      "source": [
        "%matplotlib inline"
      ],
      "metadata": {
        "id": "zp4_Nl2uBoAM"
      },
      "execution_count": null,
      "outputs": []
    },
    {
      "cell_type": "code",
      "source": [
        "raw_train[1].plot(start=10, duration=10,\n",
        "               scalings=dict(eeg=1e-4, resp=1e3, eog=1e-4, emg=1e-7,\n",
        "                            misc=1e-1))\n"
      ],
      "metadata": {
        "id": "bRuqvO0dBn8j"
      },
      "execution_count": null,
      "outputs": []
    },
    {
      "cell_type": "markdown",
      "source": [
        "**Preprocessing of data: Filtering and ICA**"
      ],
      "metadata": {
        "id": "4yW8gNSEDFH1"
      }
    },
    {
      "cell_type": "code",
      "source": [
        "filt_raw=[]\n",
        "for i in raw_train:\n",
        "  filt_raw.append(i.copy().filter(l_freq=1., h_freq=None))"
      ],
      "metadata": {
        "id": "POviJJISBnsu"
      },
      "execution_count": null,
      "outputs": []
    }
  ]
}